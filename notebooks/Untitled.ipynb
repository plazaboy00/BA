{
 "cells": [
  {
   "cell_type": "code",
   "execution_count": null,
   "id": "eea81145",
   "metadata": {},
   "outputs": [],
   "source": []
  },
  {
   "cell_type": "code",
   "execution_count": 1,
   "id": "fa713199",
   "metadata": {},
   "outputs": [],
   "source": [
    "import geopandas as gpd\n",
    "from shapely.geometry import LineString"
   ]
  },
  {
   "cell_type": "code",
   "execution_count": 3,
   "id": "4965b10f",
   "metadata": {},
   "outputs": [],
   "source": [
    "ROOT_FILES = 'C:/Users/Linus/PycharmProjects/BA/'\n",
    "ROOT_Busstations = 'src/main/resources/Buslinie/Busstationen/'\n"
   ]
  },
  {
   "cell_type": "code",
   "execution_count": 8,
   "id": "4b27f0c9",
   "metadata": {},
   "outputs": [],
   "source": [
    "#Pfad zur Shapefile-Datei mit den Strassen\n",
    "ROOT_RESOURCE_STRASSENNETZ = 'src/main/resources/QGIS/Strassen/'\n",
    "DATEN_STRASSENNETZ = gpd.read_file(ROOT_FILES + ROOT_RESOURCE_STRASSENNETZ + 'AlleStrassen.shp')\n",
    "\n",
    "# Pfad zur Shapefile-Datei mit den Bushaltestellen\n",
    "shapefile_path = ROOT_FILES + ROOT_Busstations + \"Stationspuffer.shp\"\n",
    "\n",
    "# Laden der Bushaltestellen als GeoDataFrame\n",
    "bus_stops = gpd.read_file(shapefile_path)"
   ]
  },
  {
   "cell_type": "code",
   "execution_count": 7,
   "id": "aeb53d9b",
   "metadata": {
    "scrolled": true
   },
   "outputs": [
    {
     "name": "stdout",
     "output_type": "stream",
     "text": [
      "    id                      Station  Geometry  ringId  distance  \\\n",
      "0    1               Meilen Bahnhof       NaN       1     500.0   \n",
      "1    2               Meilen, Beugen       NaN       1     500.0   \n",
      "2    3            Meilen, Schulhaus       NaN       1     500.0   \n",
      "3    4             Meilen, Aebleten       NaN       1     500.0   \n",
      "4    4      Uetiko am See, Rundiweg       NaN       1     500.0   \n",
      "5    6     Uetikon am See, Bergheim       NaN       1     500.0   \n",
      "6    6         Egg, Ausser-Vollikon       NaN       1     500.0   \n",
      "7    7          Egg, Inner-Vollikon       NaN       1     500.0   \n",
      "8    8                  Rainstrasse       NaN       1     500.0   \n",
      "9    9               Egg, Forchbahn       NaN       1     500.0   \n",
      "10  10               Egg, Industrie       NaN       1     500.0   \n",
      "11  11  Riedikon, Chis/Naturstation       NaN       1     500.0   \n",
      "12  12               Riedikon, Dorf       NaN       1     500.0   \n",
      "13  13             Uster, Im Hölzli       NaN       1     500.0   \n",
      "14  14              Uster, Talacker       NaN       1     500.0   \n",
      "15  15        Uster, Zentralstrasse       NaN       1     500.0   \n",
      "16  16               Uster, Bahnhof       NaN       1     500.0   \n",
      "\n",
      "                                             geometry  \n",
      "0   POLYGON ((2691716.355 1236096.996, 2691715.969...  \n",
      "1   POLYGON ((2692221.475 1235859.841, 2692221.089...  \n",
      "2   POLYGON ((2692664.136 1235952.101, 2692663.751...  \n",
      "3   POLYGON ((2693125.854 1236089.777, 2693125.469...  \n",
      "4   POLYGON ((2694295.764 1236390.145, 2694295.378...  \n",
      "5   POLYGON ((2694860.907 1236444.544, 2694860.521...  \n",
      "6   POLYGON ((2695692.671 1237693.365, 2695692.285...  \n",
      "7   POLYGON ((2695459.293 1238375.365, 2695458.908...  \n",
      "8   POLYGON ((2695120.140 1239083.557, 2695119.755...  \n",
      "9   POLYGON ((2695100.916 1239702.343, 2695100.531...  \n",
      "10  POLYGON ((2695263.273 1240053.248, 2695262.888...  \n",
      "11  POLYGON ((2696574.216 1242503.376, 2696573.831...  \n",
      "12  POLYGON ((2696696.782 1243162.877, 2696696.396...  \n",
      "13  POLYGON ((2696911.355 1243957.704, 2696910.969...  \n",
      "14  POLYGON ((2697033.892 1244392.279, 2697033.506...  \n",
      "15  POLYGON ((2697159.171 1244823.467, 2697158.786...  \n",
      "16  POLYGON ((2697122.458 1245221.496, 2697122.072...  \n"
     ]
    }
   ],
   "source": [
    "# Pfad zur Shapefile-Datei mit den Bushaltestellen\n",
    "shapefile_path = ROOT_FILES + ROOT_Busstations + \"Stationspuffer.shp\"\n",
    "\n",
    "# Laden der Bushaltestellen als GeoDataFrame\n",
    "bus_stops = gpd.read_file(shapefile_path)\n",
    "\n",
    "print(bus_stops)\n"
   ]
  },
  {
   "cell_type": "code",
   "execution_count": 9,
   "id": "d8bc6cd6",
   "metadata": {},
   "outputs": [
    {
     "ename": "NameError",
     "evalue": "name 'nearest_points' is not defined",
     "output_type": "error",
     "traceback": [
      "\u001b[1;31m---------------------------------------------------------------------------\u001b[0m",
      "\u001b[1;31mNameError\u001b[0m                                 Traceback (most recent call last)",
      "Cell \u001b[1;32mIn[9], line 4\u001b[0m\n\u001b[0;32m      2\u001b[0m nearest_roads \u001b[38;5;241m=\u001b[39m []\n\u001b[0;32m      3\u001b[0m \u001b[38;5;28;01mfor\u001b[39;00m idx, stop \u001b[38;5;129;01min\u001b[39;00m bus_stops\u001b[38;5;241m.\u001b[39miterrows():\n\u001b[1;32m----> 4\u001b[0m     nearest_road \u001b[38;5;241m=\u001b[39m \u001b[43mDATEN_STRASSENNETZ\u001b[49m\u001b[38;5;241;43m.\u001b[39;49m\u001b[43mgeometry\u001b[49m\u001b[38;5;241;43m.\u001b[39;49m\u001b[43mapply\u001b[49m\u001b[43m(\u001b[49m\u001b[38;5;28;43;01mlambda\u001b[39;49;00m\u001b[43m \u001b[49m\u001b[43mgeom\u001b[49m\u001b[43m:\u001b[49m\u001b[43m \u001b[49m\u001b[43mnearest_points\u001b[49m\u001b[43m(\u001b[49m\u001b[43mstop\u001b[49m\u001b[38;5;241;43m.\u001b[39;49m\u001b[43mgeometry\u001b[49m\u001b[43m,\u001b[49m\u001b[43m \u001b[49m\u001b[43mgeom\u001b[49m\u001b[43m)\u001b[49m\u001b[43m)\u001b[49m\n\u001b[0;32m      5\u001b[0m     nearest_road_idx \u001b[38;5;241m=\u001b[39m nearest_road\u001b[38;5;241m.\u001b[39mapply(\u001b[38;5;28;01mlambda\u001b[39;00m pts: pts[\u001b[38;5;241m0\u001b[39m]\u001b[38;5;241m.\u001b[39mdistance(pts[\u001b[38;5;241m1\u001b[39m]))\u001b[38;5;241m.\u001b[39midxmin()\n\u001b[0;32m      6\u001b[0m     nearest_roads\u001b[38;5;241m.\u001b[39mappend(DATEN_STRASSENNETZ\u001b[38;5;241m.\u001b[39mloc[nearest_road_idx]\u001b[38;5;241m.\u001b[39mgeometry)\n",
      "File \u001b[1;32m~\\anaconda3\\envs\\gta23v2\\Lib\\site-packages\\geopandas\\geoseries.py:660\u001b[0m, in \u001b[0;36mGeoSeries.apply\u001b[1;34m(self, func, convert_dtype, args, **kwargs)\u001b[0m\n\u001b[0;32m    657\u001b[0m         kwargs[\u001b[38;5;124m\"\u001b[39m\u001b[38;5;124mconvert_dtype\u001b[39m\u001b[38;5;124m\"\u001b[39m] \u001b[38;5;241m=\u001b[39m \u001b[38;5;28;01mTrue\u001b[39;00m\n\u001b[0;32m    659\u001b[0m \u001b[38;5;66;03m# to avoid warning\u001b[39;00m\n\u001b[1;32m--> 660\u001b[0m result \u001b[38;5;241m=\u001b[39m \u001b[38;5;28;43msuper\u001b[39;49m\u001b[43m(\u001b[49m\u001b[43m)\u001b[49m\u001b[38;5;241;43m.\u001b[39;49m\u001b[43mapply\u001b[49m\u001b[43m(\u001b[49m\u001b[43mfunc\u001b[49m\u001b[43m,\u001b[49m\u001b[43m \u001b[49m\u001b[43margs\u001b[49m\u001b[38;5;241;43m=\u001b[39;49m\u001b[43margs\u001b[49m\u001b[43m,\u001b[49m\u001b[43m \u001b[49m\u001b[38;5;241;43m*\u001b[39;49m\u001b[38;5;241;43m*\u001b[39;49m\u001b[43mkwargs\u001b[49m\u001b[43m)\u001b[49m\n\u001b[0;32m    661\u001b[0m \u001b[38;5;28;01mif\u001b[39;00m \u001b[38;5;28misinstance\u001b[39m(result, GeoSeries):\n\u001b[0;32m    662\u001b[0m     \u001b[38;5;28;01mif\u001b[39;00m \u001b[38;5;28mself\u001b[39m\u001b[38;5;241m.\u001b[39mcrs \u001b[38;5;129;01mis\u001b[39;00m \u001b[38;5;129;01mnot\u001b[39;00m \u001b[38;5;28;01mNone\u001b[39;00m:\n",
      "File \u001b[1;32m~\\anaconda3\\envs\\gta23v2\\Lib\\site-packages\\pandas\\core\\series.py:4760\u001b[0m, in \u001b[0;36mSeries.apply\u001b[1;34m(self, func, convert_dtype, args, by_row, **kwargs)\u001b[0m\n\u001b[0;32m   4625\u001b[0m \u001b[38;5;28;01mdef\u001b[39;00m \u001b[38;5;21mapply\u001b[39m(\n\u001b[0;32m   4626\u001b[0m     \u001b[38;5;28mself\u001b[39m,\n\u001b[0;32m   4627\u001b[0m     func: AggFuncType,\n\u001b[1;32m   (...)\u001b[0m\n\u001b[0;32m   4632\u001b[0m     \u001b[38;5;241m*\u001b[39m\u001b[38;5;241m*\u001b[39mkwargs,\n\u001b[0;32m   4633\u001b[0m ) \u001b[38;5;241m-\u001b[39m\u001b[38;5;241m>\u001b[39m DataFrame \u001b[38;5;241m|\u001b[39m Series:\n\u001b[0;32m   4634\u001b[0m \u001b[38;5;250m    \u001b[39m\u001b[38;5;124;03m\"\"\"\u001b[39;00m\n\u001b[0;32m   4635\u001b[0m \u001b[38;5;124;03m    Invoke function on values of Series.\u001b[39;00m\n\u001b[0;32m   4636\u001b[0m \n\u001b[1;32m   (...)\u001b[0m\n\u001b[0;32m   4751\u001b[0m \u001b[38;5;124;03m    dtype: float64\u001b[39;00m\n\u001b[0;32m   4752\u001b[0m \u001b[38;5;124;03m    \"\"\"\u001b[39;00m\n\u001b[0;32m   4753\u001b[0m     \u001b[38;5;28;01mreturn\u001b[39;00m \u001b[43mSeriesApply\u001b[49m\u001b[43m(\u001b[49m\n\u001b[0;32m   4754\u001b[0m \u001b[43m        \u001b[49m\u001b[38;5;28;43mself\u001b[39;49m\u001b[43m,\u001b[49m\n\u001b[0;32m   4755\u001b[0m \u001b[43m        \u001b[49m\u001b[43mfunc\u001b[49m\u001b[43m,\u001b[49m\n\u001b[0;32m   4756\u001b[0m \u001b[43m        \u001b[49m\u001b[43mconvert_dtype\u001b[49m\u001b[38;5;241;43m=\u001b[39;49m\u001b[43mconvert_dtype\u001b[49m\u001b[43m,\u001b[49m\n\u001b[0;32m   4757\u001b[0m \u001b[43m        \u001b[49m\u001b[43mby_row\u001b[49m\u001b[38;5;241;43m=\u001b[39;49m\u001b[43mby_row\u001b[49m\u001b[43m,\u001b[49m\n\u001b[0;32m   4758\u001b[0m \u001b[43m        \u001b[49m\u001b[43margs\u001b[49m\u001b[38;5;241;43m=\u001b[39;49m\u001b[43margs\u001b[49m\u001b[43m,\u001b[49m\n\u001b[0;32m   4759\u001b[0m \u001b[43m        \u001b[49m\u001b[43mkwargs\u001b[49m\u001b[38;5;241;43m=\u001b[39;49m\u001b[43mkwargs\u001b[49m\u001b[43m,\u001b[49m\n\u001b[1;32m-> 4760\u001b[0m \u001b[43m    \u001b[49m\u001b[43m)\u001b[49m\u001b[38;5;241;43m.\u001b[39;49m\u001b[43mapply\u001b[49m\u001b[43m(\u001b[49m\u001b[43m)\u001b[49m\n",
      "File \u001b[1;32m~\\anaconda3\\envs\\gta23v2\\Lib\\site-packages\\pandas\\core\\apply.py:1207\u001b[0m, in \u001b[0;36mSeriesApply.apply\u001b[1;34m(self)\u001b[0m\n\u001b[0;32m   1204\u001b[0m     \u001b[38;5;28;01mreturn\u001b[39;00m \u001b[38;5;28mself\u001b[39m\u001b[38;5;241m.\u001b[39mapply_compat()\n\u001b[0;32m   1206\u001b[0m \u001b[38;5;66;03m# self.func is Callable\u001b[39;00m\n\u001b[1;32m-> 1207\u001b[0m \u001b[38;5;28;01mreturn\u001b[39;00m \u001b[38;5;28;43mself\u001b[39;49m\u001b[38;5;241;43m.\u001b[39;49m\u001b[43mapply_standard\u001b[49m\u001b[43m(\u001b[49m\u001b[43m)\u001b[49m\n",
      "File \u001b[1;32m~\\anaconda3\\envs\\gta23v2\\Lib\\site-packages\\pandas\\core\\apply.py:1287\u001b[0m, in \u001b[0;36mSeriesApply.apply_standard\u001b[1;34m(self)\u001b[0m\n\u001b[0;32m   1281\u001b[0m \u001b[38;5;66;03m# row-wise access\u001b[39;00m\n\u001b[0;32m   1282\u001b[0m \u001b[38;5;66;03m# apply doesn't have a `na_action` keyword and for backward compat reasons\u001b[39;00m\n\u001b[0;32m   1283\u001b[0m \u001b[38;5;66;03m# we need to give `na_action=\"ignore\"` for categorical data.\u001b[39;00m\n\u001b[0;32m   1284\u001b[0m \u001b[38;5;66;03m# TODO: remove the `na_action=\"ignore\"` when that default has been changed in\u001b[39;00m\n\u001b[0;32m   1285\u001b[0m \u001b[38;5;66;03m#  Categorical (GH51645).\u001b[39;00m\n\u001b[0;32m   1286\u001b[0m action \u001b[38;5;241m=\u001b[39m \u001b[38;5;124m\"\u001b[39m\u001b[38;5;124mignore\u001b[39m\u001b[38;5;124m\"\u001b[39m \u001b[38;5;28;01mif\u001b[39;00m \u001b[38;5;28misinstance\u001b[39m(obj\u001b[38;5;241m.\u001b[39mdtype, CategoricalDtype) \u001b[38;5;28;01melse\u001b[39;00m \u001b[38;5;28;01mNone\u001b[39;00m\n\u001b[1;32m-> 1287\u001b[0m mapped \u001b[38;5;241m=\u001b[39m \u001b[43mobj\u001b[49m\u001b[38;5;241;43m.\u001b[39;49m\u001b[43m_map_values\u001b[49m\u001b[43m(\u001b[49m\n\u001b[0;32m   1288\u001b[0m \u001b[43m    \u001b[49m\u001b[43mmapper\u001b[49m\u001b[38;5;241;43m=\u001b[39;49m\u001b[43mcurried\u001b[49m\u001b[43m,\u001b[49m\u001b[43m \u001b[49m\u001b[43mna_action\u001b[49m\u001b[38;5;241;43m=\u001b[39;49m\u001b[43maction\u001b[49m\u001b[43m,\u001b[49m\u001b[43m \u001b[49m\u001b[43mconvert\u001b[49m\u001b[38;5;241;43m=\u001b[39;49m\u001b[38;5;28;43mself\u001b[39;49m\u001b[38;5;241;43m.\u001b[39;49m\u001b[43mconvert_dtype\u001b[49m\n\u001b[0;32m   1289\u001b[0m \u001b[43m\u001b[49m\u001b[43m)\u001b[49m\n\u001b[0;32m   1291\u001b[0m \u001b[38;5;28;01mif\u001b[39;00m \u001b[38;5;28mlen\u001b[39m(mapped) \u001b[38;5;129;01mand\u001b[39;00m \u001b[38;5;28misinstance\u001b[39m(mapped[\u001b[38;5;241m0\u001b[39m], ABCSeries):\n\u001b[0;32m   1292\u001b[0m     \u001b[38;5;66;03m# GH#43986 Need to do list(mapped) in order to get treated as nested\u001b[39;00m\n\u001b[0;32m   1293\u001b[0m     \u001b[38;5;66;03m#  See also GH#25959 regarding EA support\u001b[39;00m\n\u001b[0;32m   1294\u001b[0m     \u001b[38;5;28;01mreturn\u001b[39;00m obj\u001b[38;5;241m.\u001b[39m_constructor_expanddim(\u001b[38;5;28mlist\u001b[39m(mapped), index\u001b[38;5;241m=\u001b[39mobj\u001b[38;5;241m.\u001b[39mindex)\n",
      "File \u001b[1;32m~\\anaconda3\\envs\\gta23v2\\Lib\\site-packages\\pandas\\core\\base.py:919\u001b[0m, in \u001b[0;36mIndexOpsMixin._map_values\u001b[1;34m(self, mapper, na_action, convert)\u001b[0m\n\u001b[0;32m    916\u001b[0m arr \u001b[38;5;241m=\u001b[39m \u001b[38;5;28mself\u001b[39m\u001b[38;5;241m.\u001b[39m_values\n\u001b[0;32m    918\u001b[0m \u001b[38;5;28;01mif\u001b[39;00m \u001b[38;5;28misinstance\u001b[39m(arr, ExtensionArray):\n\u001b[1;32m--> 919\u001b[0m     \u001b[38;5;28;01mreturn\u001b[39;00m \u001b[43marr\u001b[49m\u001b[38;5;241;43m.\u001b[39;49m\u001b[43mmap\u001b[49m\u001b[43m(\u001b[49m\u001b[43mmapper\u001b[49m\u001b[43m,\u001b[49m\u001b[43m \u001b[49m\u001b[43mna_action\u001b[49m\u001b[38;5;241;43m=\u001b[39;49m\u001b[43mna_action\u001b[49m\u001b[43m)\u001b[49m\n\u001b[0;32m    921\u001b[0m \u001b[38;5;28;01mreturn\u001b[39;00m algorithms\u001b[38;5;241m.\u001b[39mmap_array(arr, mapper, na_action\u001b[38;5;241m=\u001b[39mna_action, convert\u001b[38;5;241m=\u001b[39mconvert)\n",
      "File \u001b[1;32m~\\anaconda3\\envs\\gta23v2\\Lib\\site-packages\\pandas\\core\\arrays\\base.py:2189\u001b[0m, in \u001b[0;36mExtensionArray.map\u001b[1;34m(self, mapper, na_action)\u001b[0m\n\u001b[0;32m   2169\u001b[0m \u001b[38;5;28;01mdef\u001b[39;00m \u001b[38;5;21mmap\u001b[39m(\u001b[38;5;28mself\u001b[39m, mapper, na_action\u001b[38;5;241m=\u001b[39m\u001b[38;5;28;01mNone\u001b[39;00m):\n\u001b[0;32m   2170\u001b[0m \u001b[38;5;250m    \u001b[39m\u001b[38;5;124;03m\"\"\"\u001b[39;00m\n\u001b[0;32m   2171\u001b[0m \u001b[38;5;124;03m    Map values using an input mapping or function.\u001b[39;00m\n\u001b[0;32m   2172\u001b[0m \n\u001b[1;32m   (...)\u001b[0m\n\u001b[0;32m   2187\u001b[0m \u001b[38;5;124;03m        a MultiIndex will be returned.\u001b[39;00m\n\u001b[0;32m   2188\u001b[0m \u001b[38;5;124;03m    \"\"\"\u001b[39;00m\n\u001b[1;32m-> 2189\u001b[0m     \u001b[38;5;28;01mreturn\u001b[39;00m \u001b[43mmap_array\u001b[49m\u001b[43m(\u001b[49m\u001b[38;5;28;43mself\u001b[39;49m\u001b[43m,\u001b[49m\u001b[43m \u001b[49m\u001b[43mmapper\u001b[49m\u001b[43m,\u001b[49m\u001b[43m \u001b[49m\u001b[43mna_action\u001b[49m\u001b[38;5;241;43m=\u001b[39;49m\u001b[43mna_action\u001b[49m\u001b[43m)\u001b[49m\n",
      "File \u001b[1;32m~\\anaconda3\\envs\\gta23v2\\Lib\\site-packages\\pandas\\core\\algorithms.py:1814\u001b[0m, in \u001b[0;36mmap_array\u001b[1;34m(arr, mapper, na_action, convert)\u001b[0m\n\u001b[0;32m   1812\u001b[0m values \u001b[38;5;241m=\u001b[39m arr\u001b[38;5;241m.\u001b[39mastype(\u001b[38;5;28mobject\u001b[39m, copy\u001b[38;5;241m=\u001b[39m\u001b[38;5;28;01mFalse\u001b[39;00m)\n\u001b[0;32m   1813\u001b[0m \u001b[38;5;28;01mif\u001b[39;00m na_action \u001b[38;5;129;01mis\u001b[39;00m \u001b[38;5;28;01mNone\u001b[39;00m:\n\u001b[1;32m-> 1814\u001b[0m     \u001b[38;5;28;01mreturn\u001b[39;00m \u001b[43mlib\u001b[49m\u001b[38;5;241;43m.\u001b[39;49m\u001b[43mmap_infer\u001b[49m\u001b[43m(\u001b[49m\u001b[43mvalues\u001b[49m\u001b[43m,\u001b[49m\u001b[43m \u001b[49m\u001b[43mmapper\u001b[49m\u001b[43m,\u001b[49m\u001b[43m \u001b[49m\u001b[43mconvert\u001b[49m\u001b[38;5;241;43m=\u001b[39;49m\u001b[43mconvert\u001b[49m\u001b[43m)\u001b[49m\n\u001b[0;32m   1815\u001b[0m \u001b[38;5;28;01melse\u001b[39;00m:\n\u001b[0;32m   1816\u001b[0m     \u001b[38;5;28;01mreturn\u001b[39;00m lib\u001b[38;5;241m.\u001b[39mmap_infer_mask(\n\u001b[0;32m   1817\u001b[0m         values, mapper, mask\u001b[38;5;241m=\u001b[39misna(values)\u001b[38;5;241m.\u001b[39mview(np\u001b[38;5;241m.\u001b[39muint8), convert\u001b[38;5;241m=\u001b[39mconvert\n\u001b[0;32m   1818\u001b[0m     )\n",
      "File \u001b[1;32mlib.pyx:2917\u001b[0m, in \u001b[0;36mpandas._libs.lib.map_infer\u001b[1;34m()\u001b[0m\n",
      "Cell \u001b[1;32mIn[9], line 4\u001b[0m, in \u001b[0;36m<lambda>\u001b[1;34m(geom)\u001b[0m\n\u001b[0;32m      2\u001b[0m nearest_roads \u001b[38;5;241m=\u001b[39m []\n\u001b[0;32m      3\u001b[0m \u001b[38;5;28;01mfor\u001b[39;00m idx, stop \u001b[38;5;129;01min\u001b[39;00m bus_stops\u001b[38;5;241m.\u001b[39miterrows():\n\u001b[1;32m----> 4\u001b[0m     nearest_road \u001b[38;5;241m=\u001b[39m DATEN_STRASSENNETZ\u001b[38;5;241m.\u001b[39mgeometry\u001b[38;5;241m.\u001b[39mapply(\u001b[38;5;28;01mlambda\u001b[39;00m geom: \u001b[43mnearest_points\u001b[49m(stop\u001b[38;5;241m.\u001b[39mgeometry, geom))\n\u001b[0;32m      5\u001b[0m     nearest_road_idx \u001b[38;5;241m=\u001b[39m nearest_road\u001b[38;5;241m.\u001b[39mapply(\u001b[38;5;28;01mlambda\u001b[39;00m pts: pts[\u001b[38;5;241m0\u001b[39m]\u001b[38;5;241m.\u001b[39mdistance(pts[\u001b[38;5;241m1\u001b[39m]))\u001b[38;5;241m.\u001b[39midxmin()\n\u001b[0;32m      6\u001b[0m     nearest_roads\u001b[38;5;241m.\u001b[39mappend(DATEN_STRASSENNETZ\u001b[38;5;241m.\u001b[39mloc[nearest_road_idx]\u001b[38;5;241m.\u001b[39mgeometry)\n",
      "\u001b[1;31mNameError\u001b[0m: name 'nearest_points' is not defined"
     ]
    }
   ],
   "source": [
    "# Für jede Bushaltestelle die nächstgelegene Straße finden\n",
    "nearest_roads = []\n",
    "for idx, stop in bus_stops.iterrows():\n",
    "    nearest_road = DATEN_STRASSENNETZ.geometry.apply(lambda geom: nearest_points(stop.geometry, geom))\n",
    "    nearest_road_idx = nearest_road.apply(lambda pts: pts[0].distance(pts[1])).idxmin()\n",
    "    nearest_roads.append(DATEN_STRASSENNETZ.loc[nearest_road_idx].geometry)\n",
    "\n",
    "# Linien zwischen den Bushaltestellen entlang der Straßen erstellen\n",
    "lines = []\n",
    "for i in range(len(nearest_roads) - 1):\n",
    "    lines.append(LineString([nearest_roads[i].centroid, nearest_roads[i+1].centroid]))\n",
    "\n",
    "# GeoDataFrame für die Linien erstellen\n",
    "bus_lines_gdf = gpd.GeoDataFrame(geometry=lines, crs=bus_stops.crs)\n",
    "\n",
    "# Speichern der Linien als Shapefile oder in einem anderen gewünschten Format\n",
    "output_path = \"pfad/zum/ausgabedatei.shp\"\n",
    "bus_lines_gdf.to_file(output_path)"
   ]
  },
  {
   "cell_type": "code",
   "execution_count": null,
   "id": "c08619a7",
   "metadata": {},
   "outputs": [],
   "source": [
    "# Erstellen einer Linie, die die Bushaltestellen verbindet\n",
    "bus_line = LineString(bus_stops.geometry)"
   ]
  }
 ],
 "metadata": {
  "kernelspec": {
   "display_name": "gta23v2",
   "language": "python",
   "name": "gta23v2"
  },
  "language_info": {
   "codemirror_mode": {
    "name": "ipython",
    "version": 3
   },
   "file_extension": ".py",
   "mimetype": "text/x-python",
   "name": "python",
   "nbconvert_exporter": "python",
   "pygments_lexer": "ipython3",
   "version": "3.11.6"
  }
 },
 "nbformat": 4,
 "nbformat_minor": 5
}
