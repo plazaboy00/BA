{
 "cells": [
  {
   "cell_type": "code",
   "execution_count": 2,
   "metadata": {},
   "outputs": [],
   "source": [
    "import pandas as pd\n",
    "import numpy as np  \n",
    "import matplotlib.pyplot as plt \n",
    "from matplotlib.patches import Patch\n",
    "import geopandas as gpd\n",
    "import os\n",
    "from datetime import datetime, timedelta\n",
    "import random"
   ]
  },
  {
   "cell_type": "code",
   "execution_count": 3,
   "metadata": {},
   "outputs": [],
   "source": [
    "# CSV-Datei einlesen\n",
    "daten = pd.read_csv('C:/Users/Linus/Documents/BA/KTZH_00001982_00003903(1).csv')"
   ]
  },
  {
   "cell_type": "code",
   "execution_count": 4,
   "metadata": {},
   "outputs": [
    {
     "name": "stdout",
     "output_type": "stream",
     "text": [
      "Modal Split für oev in Meilen nach Egg (2018): 1 %\n",
      "Modal Split für miv in Meilen nach Egg (2018): 99 %\n",
      "Modal Split für oev in Oetwil am See nach Männedorf (2018): 15 %\n",
      "Modal Split für miv in Oetwil am See nach Männedorf (2018): 85 %\n",
      "Verkehrsaufkommen für oev in Meilen nach Egg (2018): 3 Personen\n",
      "Verkehrsaufkommen für miv in Meilen nach Egg (2018): 483 Personen\n",
      "Verkehrsaufkommen für oev in Oetwil am See nach Männedorf (2018): 58 Personen\n",
      "Verkehrsaufkommen für miv in Oetwil am See nach Männedorf (2018): 318 Personen\n"
     ]
    }
   ],
   "source": [
    "# Liste der gewünschten Gemeinden und Zielnamen\n",
    "gewuenschte_gemeinden = ['Meilen', 'Egg', 'Uster']\n",
    "gewuenschte_zielnamen = ['Meilen', 'Egg', 'Uster']  \n",
    "gewuenschte_kategorien = ['Verkehrsaufkommen']\n",
    "gewuenschtes_jahr = 2018   \n",
    "\n",
    "\n",
    "\n",
    "# Filtern der Daten nach den gewünschten Bedingungen\n",
    "daten_filtered = daten[(daten['jahr'] == gewuenschtes_jahr) & \n",
    "                       (daten['quelle_name'].isin(gewuenschte_gemeinden)) &\n",
    "                       (daten['ziel_name'].isin(gewuenschte_zielnamen)) &\n",
    "                       (daten['kategorie'].isin(gewuenschte_kategorien))]\n",
    "\n",
    "# Liste der Gemeinden und Zielnamen als Vergleich\n",
    "\n",
    "vergleichs_gemeinden = ['Männedorf', 'Oetwil am See']\n",
    "vergleichs_zielnamen = ['Männedorf', 'Oetwil am See']\n",
    "gewuenschte_kategorien_1 = ['Verkehrsaufkommen']\n",
    "gewuenschtes_jahr = 2018\n",
    "\n",
    "# Filtern der Daten nach den gewünschten Bedingungen\n",
    "daten_filtered_1 = daten[(daten['jahr'] == gewuenschtes_jahr) & \n",
    "                       (daten['quelle_name'].isin(vergleichs_gemeinden)) &\n",
    "                       (daten['ziel_name'].isin(vergleichs_zielnamen)) &\n",
    "                       (daten['kategorie'].isin(gewuenschte_kategorien_1))]\n",
    "\n",
    "# Liste der Gemeinden und Zielnamen als Vergleich\n",
    "\n",
    "vergleichs_gemeinden_orginal = ['Meilen', 'Egg']\n",
    "vergleichs_zielnamen_orginal = ['Meilen', 'Egg']\n",
    "gewuenschte_kategorien_2 = ['Verkehrsaufkommen']\n",
    "gewuenschtes_jahr = 2018\n",
    "\n",
    "# Filtern der Daten nach den gewünschten Bedingungen\n",
    "daten_filtered_2 = daten[(daten['jahr'] == gewuenschtes_jahr) & \n",
    "                       (daten['quelle_name'].isin(vergleichs_gemeinden_orginal)) &\n",
    "                       (daten['ziel_name'].isin(vergleichs_zielnamen_orginal)) &\n",
    "                       (daten['kategorie'].isin(gewuenschte_kategorien_2))]\n",
    "\n",
    "# Filtern des DataFrames für die entsprechenden Verkehrsmittel und Gemeinden\n",
    "daten_Meilen_Egg_oev = daten[(daten['quelle_name'] == 'Meilen') & (daten['ziel_name'] == 'Egg') & (daten['verkehrsmittel'] == 'oev') & (daten['jahr'] == 2018) & (daten['kategorie'] == 'Modal Split')]\n",
    "daten_Meilen_Egg_miv = daten[(daten['quelle_name'] == 'Meilen') & (daten['ziel_name'] == 'Egg') & (daten['verkehrsmittel'] == 'miv') & (daten['jahr'] == 2018) & (daten['kategorie'] == 'Modal Split')]\n",
    "daten_Oetwil_Männedorf_oev = daten[(daten['quelle_name'] == 'Oetwil am See') & (daten['ziel_name'] == 'Männedorf') & (daten['verkehrsmittel'] == 'oev') & (daten['jahr'] == 2018) & (daten['kategorie'] == 'Modal Split')]\n",
    "daten_Oetwil_Männedorf_miv = daten[(daten['quelle_name'] == 'Oetwil am See') & (daten['ziel_name'] == 'Männedorf') & (daten['verkehrsmittel'] == 'miv') & (daten['jahr'] == 2018) & (daten['kategorie'] == 'Modal Split')]\n",
    "Anzahl_Meilen_Egg_oev = daten[(daten['quelle_name'] == 'Meilen') & (daten['ziel_name'] == 'Egg') & (daten['verkehrsmittel'] == 'oev') & (daten['jahr'] == 2018) & (daten['kategorie'] == 'Verkehrsaufkommen')]\n",
    "Anzahl_Meilen_Egg_miv = daten[(daten['quelle_name'] == 'Meilen') & (daten['ziel_name'] == 'Egg') & (daten['verkehrsmittel'] == 'miv') & (daten['jahr'] == 2018) & (daten['kategorie'] == 'Verkehrsaufkommen')]\n",
    "Anzahl_Oetwil_Männedorf_oev = daten[(daten['quelle_name'] == 'Oetwil am See') & (daten['ziel_name'] == 'Männedorf') & (daten['verkehrsmittel'] == 'oev') & (daten['jahr'] == 2018) & (daten['kategorie'] == 'Verkehrsaufkommen')]\n",
    "Anzahl_Oetwil_Männedorf_miv = daten[(daten['quelle_name'] == 'Oetwil am See') & (daten['ziel_name'] == 'Männedorf') & (daten['verkehrsmittel'] == 'miv') & (daten['jahr'] == 2018) & (daten['kategorie'] == 'Verkehrsaufkommen')]\n",
    "\n",
    "# Extrahieren des Modal Split für oev und miv\n",
    "modal_split_oev_Meilen = daten_Meilen_Egg_oev['wert'].values[0]  # Der Modal Split für oev\n",
    "modal_split_miv_Meilen = daten_Meilen_Egg_miv['wert'].values[0]  # Der Modal Split für miv\n",
    "modal_split_oev_Oetwil = daten_Oetwil_Männedorf_oev['wert'].values[0]  # Der Modal Split für oev\n",
    "modal_split_miv_Oetwil = daten_Oetwil_Männedorf_miv['wert'].values[0]  # Der Modal Split für miv\n",
    "Verkehrsaufkommen_Meilen_Egg_oev = Anzahl_Meilen_Egg_oev['wert'].values[0]  # Verkehrsaufkommen für oev\n",
    "Verkehrsaufkommen_Meilen_Egg_miv = Anzahl_Meilen_Egg_miv['wert'].values[0]  # Verkehrsaufkommen für miv\n",
    "Verkehrsaufkommen_Oetwil_Männedorf_oev = Anzahl_Oetwil_Männedorf_oev['wert'].values[0]  # Verkehrsaufkommen für oev\n",
    "Verkehrsaufkommen_Oetwil_Männedorf_miv = Anzahl_Oetwil_Männedorf_miv['wert'].values[0]  # Verkehrsaufkommen für miv\n",
    "\n",
    "# Ausgabe der Ergebnisse\n",
    "print(\"Modal Split für oev in Meilen nach Egg (2018):\", modal_split_oev_Meilen, \"%\")\n",
    "print(\"Modal Split für miv in Meilen nach Egg (2018):\", modal_split_miv_Meilen, \"%\")\n",
    "print(\"Modal Split für oev in Oetwil am See nach Männedorf (2018):\", modal_split_oev_Oetwil, \"%\")\n",
    "print(\"Modal Split für miv in Oetwil am See nach Männedorf (2018):\", modal_split_miv_Oetwil, \"%\")\n",
    "print(\"Verkehrsaufkommen für oev in Meilen nach Egg (2018):\", Verkehrsaufkommen_Meilen_Egg_oev, \"Personen\")\n",
    "print(\"Verkehrsaufkommen für miv in Meilen nach Egg (2018):\", Verkehrsaufkommen_Meilen_Egg_miv, \"Personen\")\n",
    "print(\"Verkehrsaufkommen für oev in Oetwil am See nach Männedorf (2018):\", Verkehrsaufkommen_Oetwil_Männedorf_oev, \"Personen\")\n",
    "print(\"Verkehrsaufkommen für miv in Oetwil am See nach Männedorf (2018):\", Verkehrsaufkommen_Oetwil_Männedorf_miv, \"Personen\")\n",
    " \n"
   ]
  },
  {
   "cell_type": "code",
   "execution_count": 5,
   "metadata": {},
   "outputs": [
    {
     "name": "stdout",
     "output_type": "stream",
     "text": [
      "72\n"
     ]
    }
   ],
   "source": [
    "Verkehrsaufkommen_Meilen_Egg = (Verkehrsaufkommen_Meilen_Egg_oev + Verkehrsaufkommen_Meilen_Egg_miv)\n",
    "Neues_Verkehrsaufkommen_Meilen_Egg_oev = (Verkehrsaufkommen_Meilen_Egg * (modal_split_oev_Oetwil/100))\n",
    "print(int(Neues_Verkehrsaufkommen_Meilen_Egg_oev))"
   ]
  },
  {
   "cell_type": "code",
   "execution_count": 6,
   "metadata": {},
   "outputs": [
    {
     "name": "stdout",
     "output_type": "stream",
     "text": [
      "Modal Split für oev in Meilen nach Egg (2040): 1 %\n",
      "Modal Split für miv in Meilen nach Egg (2040): 99 %\n",
      "Modal Split für oev in Oetwil am See nach Männedorf (2040): 19 %\n",
      "Modal Split für miv in Oetwil am See nach Männedorf (2040): 81 %\n",
      "Verkehrsaufkommen für oev in Meilen nach Egg (2040): 5 Personen\n",
      "Verkehrsaufkommen für miv in Meilen nach Egg (2040): 589 Personen\n",
      "Verkehrsaufkommen für oev in Oetwil am See nach Männedorf (2040): 90 Personen\n",
      "Verkehrsaufkommen für miv in Oetwil am See nach Männedorf (2040): 395 Personen\n"
     ]
    }
   ],
   "source": [
    "# Liste der gewünschten Gemeinden und Zielnamen\n",
    "gewuenschte_gemeinden = ['Meilen', 'Egg', 'Uster']\n",
    "gewuenschte_zielnamen = ['Meilen', 'Egg', 'Uster']  \n",
    "gewuenschte_kategorien = ['Verkehrsaufkommen']\n",
    "gewuenschtes_jahr_zukunft = 2040   \n",
    "\n",
    "\n",
    "\n",
    "# Filtern der Daten nach den gewünschten Bedingungen\n",
    "daten_filtered = daten[(daten['jahr'] == gewuenschtes_jahr_zukunft) & \n",
    "                       (daten['quelle_name'].isin(gewuenschte_gemeinden)) &\n",
    "                       (daten['ziel_name'].isin(gewuenschte_zielnamen)) &\n",
    "                       (daten['kategorie'].isin(gewuenschte_kategorien))]\n",
    "\n",
    "# Liste der Gemeinden und Zielnamen als Vergleich\n",
    "\n",
    "vergleichs_gemeinden = ['Männedorf', 'Oetwil am See']\n",
    "vergleichs_zielnamen = ['Männedorf', 'Oetwil am See']\n",
    "gewuenschte_kategorien_1 = ['Verkehrsaufkommen']\n",
    "gewuenschtes_jahr_zukunft = 2040\n",
    "\n",
    "# Filtern der Daten nach den gewünschten Bedingungen\n",
    "daten_filtered_1 = daten[(daten['jahr'] == gewuenschtes_jahr_zukunft) & \n",
    "                       (daten['quelle_name'].isin(vergleichs_gemeinden)) &\n",
    "                       (daten['ziel_name'].isin(vergleichs_zielnamen)) &\n",
    "                       (daten['kategorie'].isin(gewuenschte_kategorien_1))]\n",
    "\n",
    "# Liste der Gemeinden und Zielnamen als Vergleich\n",
    "\n",
    "vergleichs_gemeinden_orginal = ['Meilen', 'Egg']\n",
    "vergleichs_zielnamen_orginal = ['Meilen', 'Egg']\n",
    "gewuenschte_kategorien_2 = ['Verkehrsaufkommen']\n",
    "gewuenschtes_jahr_zukunft = 2040\n",
    "\n",
    "# Filtern der Daten nach den gewünschten Bedingungen\n",
    "daten_filtered_2 = daten[(daten['jahr'] == gewuenschtes_jahr_zukunft) & \n",
    "                       (daten['quelle_name'].isin(vergleichs_gemeinden_orginal)) &\n",
    "                       (daten['ziel_name'].isin(vergleichs_zielnamen_orginal)) &\n",
    "                       (daten['kategorie'].isin(gewuenschte_kategorien_2))]\n",
    "\n",
    "# Filtern des DataFrames für die entsprechenden Verkehrsmittel und Gemeinden\n",
    "daten_Meilen_Egg_oev = daten[(daten['quelle_name'] == 'Meilen') & (daten['ziel_name'] == 'Egg') & (daten['verkehrsmittel'] == 'oev') & (daten['jahr'] == 2040) & (daten['kategorie'] == 'Modal Split')]\n",
    "daten_Meilen_Egg_miv = daten[(daten['quelle_name'] == 'Meilen') & (daten['ziel_name'] == 'Egg') & (daten['verkehrsmittel'] == 'miv') & (daten['jahr'] == 2040) & (daten['kategorie'] == 'Modal Split')]\n",
    "daten_Oetwil_Männedorf_oev = daten[(daten['quelle_name'] == 'Oetwil am See') & (daten['ziel_name'] == 'Männedorf') & (daten['verkehrsmittel'] == 'oev') & (daten['jahr'] == 2040) & (daten['kategorie'] == 'Modal Split')]\n",
    "daten_Oetwil_Männedorf_miv = daten[(daten['quelle_name'] == 'Oetwil am See') & (daten['ziel_name'] == 'Männedorf') & (daten['verkehrsmittel'] == 'miv') & (daten['jahr'] == 2040) & (daten['kategorie'] == 'Modal Split')]\n",
    "Anzahl_Meilen_Egg_oev = daten[(daten['quelle_name'] == 'Meilen') & (daten['ziel_name'] == 'Egg') & (daten['verkehrsmittel'] == 'oev') & (daten['jahr'] == 2040) & (daten['kategorie'] == 'Verkehrsaufkommen')]\n",
    "Anzahl_Meilen_Egg_miv = daten[(daten['quelle_name'] == 'Meilen') & (daten['ziel_name'] == 'Egg') & (daten['verkehrsmittel'] == 'miv') & (daten['jahr'] == 2040) & (daten['kategorie'] == 'Verkehrsaufkommen')]\n",
    "Anzahl_Oetwil_Männedorf_oev = daten[(daten['quelle_name'] == 'Oetwil am See') & (daten['ziel_name'] == 'Männedorf') & (daten['verkehrsmittel'] == 'oev') & (daten['jahr'] == 2040) & (daten['kategorie'] == 'Verkehrsaufkommen')]\n",
    "Anzahl_Oetwil_Männedorf_miv = daten[(daten['quelle_name'] == 'Oetwil am See') & (daten['ziel_name'] == 'Männedorf') & (daten['verkehrsmittel'] == 'miv') & (daten['jahr'] == 2040) & (daten['kategorie'] == 'Verkehrsaufkommen')]\n",
    "\n",
    "# Extrahieren des Modal Split für oev und miv\n",
    "modal_split_oev_Meilen = daten_Meilen_Egg_oev['wert'].values[0]  # Der Modal Split für oev\n",
    "modal_split_miv_Meilen = daten_Meilen_Egg_miv['wert'].values[0]  # Der Modal Split für miv\n",
    "modal_split_oev_Oetwil = daten_Oetwil_Männedorf_oev['wert'].values[0]  # Der Modal Split für oev\n",
    "modal_split_miv_Oetwil = daten_Oetwil_Männedorf_miv['wert'].values[0]  # Der Modal Split für miv\n",
    "Verkehrsaufkommen_Meilen_Egg_oev = Anzahl_Meilen_Egg_oev['wert'].values[0]  # Verkehrsaufkommen für oev\n",
    "Verkehrsaufkommen_Meilen_Egg_miv = Anzahl_Meilen_Egg_miv['wert'].values[0]  # Verkehrsaufkommen für miv\n",
    "Verkehrsaufkommen_Oetwil_Männedorf_oev = Anzahl_Oetwil_Männedorf_oev['wert'].values[0]  # Verkehrsaufkommen für oev\n",
    "Verkehrsaufkommen_Oetwil_Männedorf_miv = Anzahl_Oetwil_Männedorf_miv['wert'].values[0]  # Verkehrsaufkommen für miv\n",
    "\n",
    "# Ausgabe der Ergebnisse\n",
    "print(\"Modal Split für oev in Meilen nach Egg (2040):\", modal_split_oev_Meilen, \"%\")\n",
    "print(\"Modal Split für miv in Meilen nach Egg (2040):\", modal_split_miv_Meilen, \"%\")\n",
    "print(\"Modal Split für oev in Oetwil am See nach Männedorf (2040):\", modal_split_oev_Oetwil, \"%\")\n",
    "print(\"Modal Split für miv in Oetwil am See nach Männedorf (2040):\", modal_split_miv_Oetwil, \"%\")\n",
    "print(\"Verkehrsaufkommen für oev in Meilen nach Egg (2040):\", Verkehrsaufkommen_Meilen_Egg_oev, \"Personen\")\n",
    "print(\"Verkehrsaufkommen für miv in Meilen nach Egg (2040):\", Verkehrsaufkommen_Meilen_Egg_miv, \"Personen\")\n",
    "print(\"Verkehrsaufkommen für oev in Oetwil am See nach Männedorf (2040):\", Verkehrsaufkommen_Oetwil_Männedorf_oev, \"Personen\")\n",
    "print(\"Verkehrsaufkommen für miv in Oetwil am See nach Männedorf (2040):\", Verkehrsaufkommen_Oetwil_Männedorf_miv, \"Personen\")\n",
    " \n"
   ]
  }
 ],
 "metadata": {
  "kernelspec": {
   "display_name": "gta23v2",
   "language": "python",
   "name": "python3"
  },
  "language_info": {
   "codemirror_mode": {
    "name": "ipython",
    "version": 3
   },
   "file_extension": ".py",
   "mimetype": "text/x-python",
   "name": "python",
   "nbconvert_exporter": "python",
   "pygments_lexer": "ipython3",
   "version": "3.11.6"
  }
 },
 "nbformat": 4,
 "nbformat_minor": 2
}
